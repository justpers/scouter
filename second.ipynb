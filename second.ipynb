{
 "cells": [
  {
   "cell_type": "code",
   "execution_count": 1,
   "metadata": {},
   "outputs": [
    {
     "data": {
      "application/vnd.google.colaboratory.intrinsic+json": {
       "type": "string"
      },
      "text/plain": [
       "'/home/work/SCOUTERv2/scouter'"
      ]
     },
     "execution_count": 1,
     "metadata": {},
     "output_type": "execute_result"
    }
   ],
   "source": [
    "pwd"
   ]
  },
  {
   "attachments": {},
   "cell_type": "markdown",
   "metadata": {},
   "source": [
    "## setting"
   ]
  },
  {
   "cell_type": "code",
   "execution_count": 2,
   "metadata": {},
   "outputs": [
    {
     "name": "stdout",
     "output_type": "stream",
     "text": [
      "Defaulting to user installation because normal site-packages is not writeable\n",
      "Collecting certifi==2020.6.20 (from -r requirements.txt (line 1))\n",
      "  Using cached certifi-2020.6.20-py2.py3-none-any.whl (156 kB)\n",
      "Collecting cycler==0.10.0 (from -r requirements.txt (line 2))\n",
      "  Using cached cycler-0.10.0-py2.py3-none-any.whl (6.5 kB)\n",
      "Requirement already satisfied: decorator==4.4.2 in /usr/local/lib/python3.10/dist-packages (from -r requirements.txt (line 3)) (4.4.2)\n",
      "Collecting future==0.18.2 (from -r requirements.txt (line 4))\n",
      "  Using cached future-0.18.2-py3-none-any.whl\n",
      "Collecting imageio==2.9.0 (from -r requirements.txt (line 5))\n",
      "  Using cached imageio-2.9.0-py3-none-any.whl (3.3 MB)\n",
      "Requirement already satisfied: imgaug==0.4.0 in /usr/local/lib/python3.10/dist-packages (from -r requirements.txt (line 6)) (0.4.0)\n",
      "Collecting joblib==0.16.0 (from -r requirements.txt (line 7))\n",
      "  Using cached joblib-0.16.0-py3-none-any.whl (300 kB)\n",
      "Collecting kiwisolver==1.2.0 (from -r requirements.txt (line 8))\n",
      "  Using cached kiwisolver-1.2.0-cp310-cp310-linux_x86_64.whl\n",
      "Collecting matplotlib==3.3.1 (from -r requirements.txt (line 9))\n",
      "  Using cached matplotlib-3.3.1-cp310-cp310-linux_x86_64.whl\n",
      "Collecting networkx==2.5 (from -r requirements.txt (line 10))\n",
      "  Using cached networkx-2.5-py3-none-any.whl (1.6 MB)\n",
      "Collecting nose==1.3.7 (from -r requirements.txt (line 11))\n",
      "  Using cached nose-1.3.7-py3-none-any.whl (154 kB)\n",
      "Collecting numpy==1.21.6 (from -r requirements.txt (line 13))\n",
      "  Using cached numpy-1.21.6-cp310-cp310-manylinux_2_17_x86_64.manylinux2014_x86_64.whl (15.9 MB)\n",
      "Collecting opencv-python==4.5.5.64 (from -r requirements.txt (line 15))\n",
      "  Using cached opencv_python-4.5.5.64-cp36-abi3-manylinux_2_17_x86_64.manylinux2014_x86_64.whl (60.5 MB)\n",
      "Collecting Pillow==7.2.0 (from -r requirements.txt (line 16))\n",
      "  Using cached Pillow-7.2.0-cp310-cp310-linux_x86_64.whl\n",
      "Collecting prefetch-generator==1.0.1 (from -r requirements.txt (line 17))\n",
      "  Using cached prefetch_generator-1.0.1-py3-none-any.whl\n",
      "Collecting pyparsing==2.4.7 (from -r requirements.txt (line 18))\n",
      "  Using cached pyparsing-2.4.7-py2.py3-none-any.whl (67 kB)\n",
      "Collecting python-dateutil==2.8.1 (from -r requirements.txt (line 19))\n",
      "  Using cached python_dateutil-2.8.1-py2.py3-none-any.whl (227 kB)\n",
      "Collecting PyWavelets==1.4.1 (from -r requirements.txt (line 21))\n",
      "  Using cached PyWavelets-1.4.1-cp310-cp310-manylinux_2_17_x86_64.manylinux2014_x86_64.whl (6.8 MB)\n",
      "Collecting scikit-image==0.18.3 (from -r requirements.txt (line 23))\n",
      "  Using cached scikit-image-0.18.3.tar.gz (29.2 MB)\n",
      "  Installing build dependencies ... \u001b[?25l\u001b[?25hdone\n",
      "  Getting requirements to build wheel ... \u001b[?25l\u001b[?25hdone\n",
      "  Preparing metadata (pyproject.toml) ... \u001b[?25l\u001b[?25hdone\n",
      "Collecting scikit-learn==1.0.2 (from -r requirements.txt (line 25))\n",
      "  Using cached scikit_learn-1.0.2-cp310-cp310-manylinux_2_17_x86_64.manylinux2014_x86_64.whl (26.5 MB)\n",
      "Collecting scipy==1.7.3 (from -r requirements.txt (line 27))\n",
      "  Using cached scipy-1.7.3-cp310-cp310-manylinux_2_17_x86_64.manylinux2014_x86_64.whl (39.9 MB)\n",
      "Collecting Shapely==1.8.0 (from -r requirements.txt (line 29))\n",
      "  Using cached Shapely-1.8.0-cp310-cp310-manylinux_2_17_x86_64.manylinux2014_x86_64.whl (1.2 MB)\n",
      "Collecting six==1.15.0 (from -r requirements.txt (line 30))\n",
      "  Using cached six-1.15.0-py2.py3-none-any.whl (10 kB)\n",
      "Collecting tensorly==0.6.0 (from -r requirements.txt (line 32))\n",
      "  Using cached tensorly-0.6.0-py3-none-any.whl (160 kB)\n",
      "Collecting thop==0.1.1.post2209072238 (from -r requirements.txt (line 33))\n",
      "  Using cached thop-0.1.1.post2209072238-py3-none-any.whl (15 kB)\n",
      "Collecting threadpoolctl==2.1.0 (from -r requirements.txt (line 35))\n",
      "  Using cached threadpoolctl-2.1.0-py3-none-any.whl (12 kB)\n",
      "Collecting tifffile==2020.9.3 (from -r requirements.txt (line 36))\n",
      "  Using cached tifffile-2020.9.3-py3-none-any.whl (148 kB)\n",
      "Collecting torch==1.11.0 (from -r requirements.txt (line 38))\n",
      "  Using cached torch-1.11.0-cp310-cp310-manylinux1_x86_64.whl (750.6 MB)\n",
      "Collecting torchvision==0.12.0 (from -r requirements.txt (line 40))\n",
      "  Using cached torchvision-0.12.0-cp310-cp310-manylinux1_x86_64.whl (21.0 MB)\n",
      "Collecting tqdm==4.49.0 (from -r requirements.txt (line 41))\n",
      "  Using cached tqdm-4.49.0-py2.py3-none-any.whl (69 kB)\n",
      "Requirement already satisfied: typing-extensions in /usr/local/lib/python3.10/dist-packages (from torch==1.11.0->-r requirements.txt (line 38)) (4.9.0)\n",
      "Requirement already satisfied: requests in /usr/local/lib/python3.10/dist-packages (from torchvision==0.12.0->-r requirements.txt (line 40)) (2.31.0)\n",
      "Requirement already satisfied: charset-normalizer<4,>=2 in /usr/local/lib/python3.10/dist-packages (from requests->torchvision==0.12.0->-r requirements.txt (line 40)) (3.3.2)\n",
      "Requirement already satisfied: idna<4,>=2.5 in /usr/local/lib/python3.10/dist-packages (from requests->torchvision==0.12.0->-r requirements.txt (line 40)) (3.6)\n",
      "Requirement already satisfied: urllib3<3,>=1.21.1 in /usr/local/lib/python3.10/dist-packages (from requests->torchvision==0.12.0->-r requirements.txt (line 40)) (2.0.7)\n",
      "Building wheels for collected packages: scikit-image\n",
      "  Building wheel for scikit-image (pyproject.toml) ... \u001b[?25l\u001b[?25hdone\n",
      "  Created wheel for scikit-image: filename=scikit_image-0.18.3-cp310-cp310-linux_x86_64.whl size=35357926 sha256=a4580c68294ff75751ebf1e0ddeac5f9d372695527671bb5d0f2cc5676abb01e\n",
      "  Stored in directory: /home/work/.cache/pip/wheels/9d/55/80/c5bf730bc10906b1518cd6ebc05c87e69d1c46099ebdc9f59f\n",
      "Successfully built scikit-image\n",
      "Installing collected packages: prefetch-generator, nose, certifi, tqdm, torch, threadpoolctl, six, Shapely, pyparsing, Pillow, numpy, networkx, kiwisolver, joblib, future, torchvision, tifffile, thop, scipy, PyWavelets, python-dateutil, opencv-python, imageio, cycler, tensorly, scikit-learn, matplotlib, scikit-image\n",
      "\u001b[31mERROR: pip's dependency resolver does not currently take into account all the packages that are installed. This behaviour is the source of the following dependency conflicts.\n",
      "lida 0.0.10 requires fastapi, which is not installed.\n",
      "lida 0.0.10 requires kaleido, which is not installed.\n",
      "lida 0.0.10 requires python-multipart, which is not installed.\n",
      "lida 0.0.10 requires uvicorn, which is not installed.\n",
      "llmx 0.0.15a0 requires cohere, which is not installed.\n",
      "llmx 0.0.15a0 requires openai, which is not installed.\n",
      "llmx 0.0.15a0 requires tiktoken, which is not installed.\n",
      "arviz 0.15.1 requires scipy>=1.8.0, but you have scipy 1.7.3 which is incompatible.\n",
      "bigframes 0.16.0 requires scikit-learn>=1.2.2, but you have scikit-learn 1.0.2 which is incompatible.\n",
      "fastai 2.7.13 requires pillow>=9.0.0, but you have pillow 7.2.0 which is incompatible.\n",
      "flax 0.7.5 requires numpy>=1.22, but you have numpy 1.21.6 which is incompatible.\n",
      "google-colab 1.0.0 requires notebook==6.5.5, but you have notebook 7.1.2 which is incompatible.\n",
      "ibis-framework 6.2.0 requires python-dateutil<3,>=2.8.2, but you have python-dateutil 2.8.1 which is incompatible.\n",
      "imbalanced-learn 0.10.1 requires joblib>=1.1.1, but you have joblib 0.16.0 which is incompatible.\n",
      "jax 0.4.20 requires numpy>=1.22, but you have numpy 1.21.6 which is incompatible.\n",
      "jax 0.4.20 requires scipy>=1.9, but you have scipy 1.7.3 which is incompatible.\n",
      "jaxlib 0.4.20+cuda12.cudnn89 requires numpy>=1.22, but you have numpy 1.21.6 which is incompatible.\n",
      "jaxlib 0.4.20+cuda12.cudnn89 requires scipy>=1.9, but you have scipy 1.7.3 which is incompatible.\n",
      "jupyter-client 8.6.1 requires python-dateutil>=2.8.2, but you have python-dateutil 2.8.1 which is incompatible.\n",
      "mizani 0.9.3 requires matplotlib>=3.5.0, but you have matplotlib 3.3.1 which is incompatible.\n",
      "numba 0.58.1 requires numpy<1.27,>=1.22, but you have numpy 1.21.6 which is incompatible.\n",
      "plotnine 0.12.4 requires matplotlib>=3.6.0, but you have matplotlib 3.3.1 which is incompatible.\n",
      "plotnine 0.12.4 requires numpy>=1.23.0, but you have numpy 1.21.6 which is incompatible.\n",
      "tensorflow 2.15.0 requires numpy<2.0.0,>=1.23.5, but you have numpy 1.21.6 which is incompatible.\n",
      "tensorflow-probability 0.22.0 requires typing-extensions<4.6.0, but you have typing-extensions 4.9.0 which is incompatible.\n",
      "torchaudio 2.1.0+cu121 requires torch==2.1.0, but you have torch 1.11.0 which is incompatible.\n",
      "torchdata 0.7.0 requires torch==2.1.0, but you have torch 1.11.0 which is incompatible.\n",
      "torchtext 0.16.0 requires torch==2.1.0, but you have torch 1.11.0 which is incompatible.\u001b[0m\u001b[31m\n",
      "\u001b[0mSuccessfully installed Pillow-7.2.0 PyWavelets-1.4.1 Shapely-1.8.0 certifi-2020.6.20 cycler-0.10.0 future-0.18.2 imageio-2.9.0 joblib-0.16.0 kiwisolver-1.2.0 matplotlib-3.3.1 networkx-2.5 nose-1.3.7 numpy-1.21.6 opencv-python-4.5.5.64 prefetch-generator-1.0.1 pyparsing-2.4.7 python-dateutil-2.8.1 scikit-image-0.18.3 scikit-learn-1.0.2 scipy-1.7.3 six-1.15.0 tensorly-0.6.0 thop-0.1.1.post2209072238 threadpoolctl-2.1.0 tifffile-2020.9.3 torch-1.11.0 torchvision-0.12.0 tqdm-4.49.0\n"
     ]
    },
    {
     "data": {
      "application/vnd.colab-display-data+json": {
       "pip_warning": {
        "packages": [
         "PIL",
         "certifi",
         "cycler",
         "dateutil",
         "kiwisolver",
         "matplotlib",
         "mpl_toolkits",
         "numpy",
         "pyparsing",
         "six"
        ]
       }
      }
     },
     "metadata": {},
     "output_type": "display_data"
    }
   ],
   "source": [
    "pip install -r requirements.txt"
   ]
  },
  {
   "cell_type": "code",
   "execution_count": 3,
   "metadata": {},
   "outputs": [
    {
     "name": "stdout",
     "output_type": "stream",
     "text": [
      "Defaulting to user installation because normal site-packages is not writeable\n",
      "Requirement already satisfied: scikit-image==0.18.3 in /home/work/.local/lib/python3.10/site-packages (0.18.3)\n",
      "Requirement already satisfied: numpy>=1.16.5 in /home/work/.local/lib/python3.10/site-packages (from scikit-image==0.18.3) (1.21.6)\n",
      "Requirement already satisfied: scipy>=1.0.1 in /home/work/.local/lib/python3.10/site-packages (from scikit-image==0.18.3) (1.7.3)\n",
      "Requirement already satisfied: matplotlib!=3.0.0,>=2.0.0 in /home/work/.local/lib/python3.10/site-packages (from scikit-image==0.18.3) (3.3.1)\n",
      "Requirement already satisfied: networkx>=2.0 in /home/work/.local/lib/python3.10/site-packages (from scikit-image==0.18.3) (2.5)\n",
      "Requirement already satisfied: pillow!=7.1.0,!=7.1.1,>=4.3.0 in /home/work/.local/lib/python3.10/site-packages (from scikit-image==0.18.3) (7.2.0)\n",
      "Requirement already satisfied: imageio>=2.3.0 in /home/work/.local/lib/python3.10/site-packages (from scikit-image==0.18.3) (2.9.0)\n",
      "Requirement already satisfied: tifffile>=2019.7.26 in /home/work/.local/lib/python3.10/site-packages (from scikit-image==0.18.3) (2020.9.3)\n",
      "Requirement already satisfied: PyWavelets>=1.1.1 in /home/work/.local/lib/python3.10/site-packages (from scikit-image==0.18.3) (1.4.1)\n",
      "Requirement already satisfied: certifi>=2020.06.20 in /home/work/.local/lib/python3.10/site-packages (from matplotlib!=3.0.0,>=2.0.0->scikit-image==0.18.3) (2020.6.20)\n",
      "Requirement already satisfied: cycler>=0.10 in /home/work/.local/lib/python3.10/site-packages (from matplotlib!=3.0.0,>=2.0.0->scikit-image==0.18.3) (0.10.0)\n",
      "Requirement already satisfied: kiwisolver>=1.0.1 in /home/work/.local/lib/python3.10/site-packages (from matplotlib!=3.0.0,>=2.0.0->scikit-image==0.18.3) (1.2.0)\n",
      "Requirement already satisfied: pyparsing!=2.0.4,!=2.1.2,!=2.1.6,>=2.0.3 in /home/work/.local/lib/python3.10/site-packages (from matplotlib!=3.0.0,>=2.0.0->scikit-image==0.18.3) (2.4.7)\n",
      "Requirement already satisfied: python-dateutil>=2.1 in /home/work/.local/lib/python3.10/site-packages (from matplotlib!=3.0.0,>=2.0.0->scikit-image==0.18.3) (2.8.1)\n",
      "Requirement already satisfied: decorator>=4.3.0 in /usr/local/lib/python3.10/dist-packages (from networkx>=2.0->scikit-image==0.18.3) (4.4.2)\n",
      "Requirement already satisfied: six in /home/work/.local/lib/python3.10/site-packages (from cycler>=0.10->matplotlib!=3.0.0,>=2.0.0->scikit-image==0.18.3) (1.15.0)\n"
     ]
    }
   ],
   "source": [
    "pip install --upgrade scikit-image==0.18.3"
   ]
  },
  {
   "cell_type": "code",
   "execution_count": 4,
   "metadata": {},
   "outputs": [
    {
     "name": "stdout",
     "output_type": "stream",
     "text": [
      "Found existing installation: numpy 1.21.6\n",
      "Uninstalling numpy-1.21.6:\n",
      "  Successfully uninstalled numpy-1.21.6\n",
      "Found existing installation: matplotlib 3.3.1\n",
      "Uninstalling matplotlib-3.3.1:\n",
      "  Successfully uninstalled matplotlib-3.3.1\n",
      "Found existing installation: scipy 1.7.3\n",
      "Uninstalling scipy-1.7.3:\n",
      "  Successfully uninstalled scipy-1.7.3\n",
      "Found existing installation: scikit-image 0.18.3\n",
      "Uninstalling scikit-image-0.18.3:\n",
      "  Successfully uninstalled scikit-image-0.18.3\n",
      "Found existing installation: PyWavelets 1.4.1\n",
      "Uninstalling PyWavelets-1.4.1:\n",
      "  Successfully uninstalled PyWavelets-1.4.1\n"
     ]
    }
   ],
   "source": [
    "!pip uninstall -y numpy matplotlib scipy scikit-image PyWavelets\n"
   ]
  },
  {
   "cell_type": "code",
   "execution_count": 5,
   "metadata": {},
   "outputs": [
    {
     "name": "stdout",
     "output_type": "stream",
     "text": [
      "Defaulting to user installation because normal site-packages is not writeable\n",
      "Requirement already satisfied: numpy==1.23.5 in /usr/local/lib/python3.10/dist-packages (1.23.5)\n",
      "Collecting matplotlib==3.6.3\n",
      "  Downloading matplotlib-3.6.3-cp310-cp310-manylinux_2_17_x86_64.manylinux2014_x86_64.whl (11.8 MB)\n",
      "\u001b[2K     \u001b[90m━━━━━━━━━━━━━━━━━━━━━━━━━━━━━━━━━━━━━━━━\u001b[0m \u001b[32m11.8/11.8 MB\u001b[0m \u001b[31m21.2 MB/s\u001b[0m eta \u001b[36m0:00:00\u001b[0m \u001b[36m0:00:01\u001b[0m\n",
      "\u001b[?25hCollecting scipy==1.9.3\n",
      "  Downloading scipy-1.9.3-cp310-cp310-manylinux_2_17_x86_64.manylinux2014_x86_64.whl (33.7 MB)\n",
      "\u001b[2K     \u001b[90m━━━━━━━━━━━━━━━━━━━━━━━━━━━━━━━━━━━━━━━━\u001b[0m \u001b[32m33.7/33.7 MB\u001b[0m \u001b[31m110.4 MB/s\u001b[0m eta \u001b[36m0:00:00\u001b[0ma \u001b[36m0:00:01\u001b[0m\n",
      "\u001b[?25hRequirement already satisfied: scikit-image==0.19.3 in /usr/local/lib/python3.10/dist-packages (0.19.3)\n",
      "Collecting PyWavelets==1.4.1\n",
      "  Downloading PyWavelets-1.4.1-cp310-cp310-manylinux_2_17_x86_64.manylinux2014_x86_64.whl (6.8 MB)\n",
      "\u001b[2K     \u001b[90m━━━━━━━━━━━━━━━━━━━━━━━━━━━━━━━━━━━━━━━━\u001b[0m \u001b[32m6.8/6.8 MB\u001b[0m \u001b[31m33.7 MB/s\u001b[0m eta \u001b[36m0:00:00\u001b[0ma \u001b[36m0:00:01\u001b[0mm\n",
      "\u001b[?25hRequirement already satisfied: contourpy>=1.0.1 in /usr/local/lib/python3.10/dist-packages (from matplotlib==3.6.3) (1.2.0)\n",
      "Requirement already satisfied: cycler>=0.10 in /home/work/.local/lib/python3.10/site-packages (from matplotlib==3.6.3) (0.10.0)\n",
      "Requirement already satisfied: fonttools>=4.22.0 in /usr/local/lib/python3.10/dist-packages (from matplotlib==3.6.3) (4.46.0)\n",
      "Requirement already satisfied: kiwisolver>=1.0.1 in /home/work/.local/lib/python3.10/site-packages (from matplotlib==3.6.3) (1.2.0)\n",
      "Requirement already satisfied: packaging>=20.0 in /usr/local/lib/python3.10/dist-packages (from matplotlib==3.6.3) (23.2)\n",
      "Requirement already satisfied: pillow>=6.2.0 in /home/work/.local/lib/python3.10/site-packages (from matplotlib==3.6.3) (7.2.0)\n",
      "Requirement already satisfied: pyparsing>=2.2.1 in /home/work/.local/lib/python3.10/site-packages (from matplotlib==3.6.3) (2.4.7)\n",
      "Requirement already satisfied: python-dateutil>=2.7 in /home/work/.local/lib/python3.10/site-packages (from matplotlib==3.6.3) (2.8.1)\n",
      "Requirement already satisfied: networkx>=2.2 in /home/work/.local/lib/python3.10/site-packages (from scikit-image==0.19.3) (2.5)\n",
      "Requirement already satisfied: imageio>=2.4.1 in /home/work/.local/lib/python3.10/site-packages (from scikit-image==0.19.3) (2.9.0)\n",
      "Requirement already satisfied: tifffile>=2019.7.26 in /home/work/.local/lib/python3.10/site-packages (from scikit-image==0.19.3) (2020.9.3)\n",
      "Requirement already satisfied: six in /home/work/.local/lib/python3.10/site-packages (from cycler>=0.10->matplotlib==3.6.3) (1.15.0)\n",
      "Requirement already satisfied: decorator>=4.3.0 in /usr/local/lib/python3.10/dist-packages (from networkx>=2.2->scikit-image==0.19.3) (4.4.2)\n",
      "Installing collected packages: scipy, PyWavelets, matplotlib\n",
      "\u001b[31mERROR: pip's dependency resolver does not currently take into account all the packages that are installed. This behaviour is the source of the following dependency conflicts.\n",
      "lida 0.0.10 requires fastapi, which is not installed.\n",
      "lida 0.0.10 requires kaleido, which is not installed.\n",
      "lida 0.0.10 requires python-multipart, which is not installed.\n",
      "lida 0.0.10 requires uvicorn, which is not installed.\n",
      "bigframes 0.16.0 requires scikit-learn>=1.2.2, but you have scikit-learn 1.0.2 which is incompatible.\n",
      "fastai 2.7.13 requires pillow>=9.0.0, but you have pillow 7.2.0 which is incompatible.\n",
      "imbalanced-learn 0.10.1 requires joblib>=1.1.1, but you have joblib 0.16.0 which is incompatible.\u001b[0m\u001b[31m\n",
      "\u001b[0mSuccessfully installed PyWavelets-1.4.1 matplotlib-3.6.3 scipy-1.9.3\n"
     ]
    },
    {
     "data": {
      "application/vnd.colab-display-data+json": {
       "pip_warning": {
        "packages": [
         "matplotlib",
         "mpl_toolkits"
        ]
       }
      }
     },
     "metadata": {},
     "output_type": "display_data"
    }
   ],
   "source": [
    "!pip install --no-cache-dir \\\n",
    "    numpy==1.23.5 \\\n",
    "    matplotlib==3.6.3 \\\n",
    "    scipy==1.9.3 \\\n",
    "    scikit-image==0.19.3 \\\n",
    "    PyWavelets==1.4.1"
   ]
  },
  {
   "cell_type": "code",
   "execution_count": 6,
   "metadata": {},
   "outputs": [
    {
     "name": "stdout",
     "output_type": "stream",
     "text": [
      "Files removed: 71\n"
     ]
    }
   ],
   "source": [
    "!pip cache purge"
   ]
  },
  {
   "cell_type": "code",
   "execution_count": 7,
   "metadata": {},
   "outputs": [
    {
     "name": "stdout",
     "output_type": "stream",
     "text": [
      "Found existing installation: torch 1.11.0\n",
      "Uninstalling torch-1.11.0:\n",
      "  Successfully uninstalled torch-1.11.0\n",
      "Found existing installation: torchvision 0.12.0\n",
      "Uninstalling torchvision-0.12.0:\n",
      "  Successfully uninstalled torchvision-0.12.0\n",
      "Found existing installation: torchaudio 2.1.0+cu121\n",
      "Uninstalling torchaudio-2.1.0+cu121:\n",
      "\u001b[31mERROR: Exception:\n",
      "Traceback (most recent call last):\n",
      "  File \"/usr/lib/python3.10/shutil.py\", line 816, in move\n",
      "    os.rename(src, real_dst)\n",
      "PermissionError: [Errno 13] Permission denied: '/usr/local/lib/python3.10/dist-packages/torchaudio-2.1.0+cu121.dist-info/' -> '/tmp/pip-uninstall-93eni1ff'\n",
      "\n",
      "During handling of the above exception, another exception occurred:\n",
      "\n",
      "Traceback (most recent call last):\n",
      "  File \"/usr/local/lib/python3.10/dist-packages/pip/_internal/cli/base_command.py\", line 169, in exc_logging_wrapper\n",
      "    status = run_func(*args)\n",
      "  File \"/usr/local/lib/python3.10/dist-packages/pip/_internal/commands/uninstall.py\", line 105, in run\n",
      "    uninstall_pathset = req.uninstall(\n",
      "  File \"/usr/local/lib/python3.10/dist-packages/pip/_internal/req/req_install.py\", line 680, in uninstall\n",
      "    uninstalled_pathset.remove(auto_confirm, verbose)\n",
      "  File \"/usr/local/lib/python3.10/dist-packages/pip/_internal/req/req_uninstall.py\", line 381, in remove\n",
      "    moved.stash(path)\n",
      "  File \"/usr/local/lib/python3.10/dist-packages/pip/_internal/req/req_uninstall.py\", line 272, in stash\n",
      "    renames(path, new_path)\n",
      "  File \"/usr/local/lib/python3.10/dist-packages/pip/_internal/utils/misc.py\", line 313, in renames\n",
      "    shutil.move(old, new)\n",
      "  File \"/usr/lib/python3.10/shutil.py\", line 834, in move\n",
      "    rmtree(src)\n",
      "  File \"/usr/lib/python3.10/shutil.py\", line 725, in rmtree\n",
      "    _rmtree_safe_fd(fd, path, onerror)\n",
      "  File \"/usr/lib/python3.10/shutil.py\", line 681, in _rmtree_safe_fd\n",
      "    onerror(os.unlink, fullname, sys.exc_info())\n",
      "  File \"/usr/lib/python3.10/shutil.py\", line 679, in _rmtree_safe_fd\n",
      "    os.unlink(entry.name, dir_fd=topfd)\n",
      "PermissionError: [Errno 13] Permission denied: 'RECORD'\u001b[0m\u001b[31m\n",
      "\u001b[0mDefaulting to user installation because normal site-packages is not writeable\n",
      "Looking in indexes: https://download.pytorch.org/whl/cu118\n",
      "Collecting torch==2.1.0+cu118\n",
      "  Downloading https://download.pytorch.org/whl/cu118/torch-2.1.0%2Bcu118-cp310-cp310-linux_x86_64.whl (2325.9 MB)\n",
      "\u001b[2K     \u001b[90m━━━━━━━━━━━━━━━━━━━━━━━━━━━━━━━━━━━━━━━━\u001b[0m \u001b[32m2.3/2.3 GB\u001b[0m \u001b[31m983.2 kB/s\u001b[0m eta \u001b[36m0:00:00\u001b[0m00:01\u001b[0m0:01\u001b[0mm\n",
      "\u001b[?25hCollecting torchvision==0.16.0+cu118\n",
      "  Downloading https://download.pytorch.org/whl/cu118/torchvision-0.16.0%2Bcu118-cp310-cp310-linux_x86_64.whl (6.2 MB)\n",
      "\u001b[2K     \u001b[90m━━━━━━━━━━━━━━━━━━━━━━━━━━━━━━━━━━━━━━━━\u001b[0m \u001b[32m6.2/6.2 MB\u001b[0m \u001b[31m47.3 MB/s\u001b[0m eta \u001b[36m0:00:00\u001b[0m00:01\u001b[0m00:01\u001b[0m\n",
      "\u001b[?25hRequirement already satisfied: torchaudio==2.1.0 in /usr/local/lib/python3.10/dist-packages (2.1.0+cu121)\n",
      "Requirement already satisfied: filelock in /usr/local/lib/python3.10/dist-packages (from torch==2.1.0+cu118) (3.11.0)\n",
      "Requirement already satisfied: typing-extensions in /usr/local/lib/python3.10/dist-packages (from torch==2.1.0+cu118) (4.9.0)\n",
      "Requirement already satisfied: sympy in /usr/local/lib/python3.10/dist-packages (from torch==2.1.0+cu118) (1.12)\n",
      "Requirement already satisfied: networkx in /home/work/.local/lib/python3.10/site-packages (from torch==2.1.0+cu118) (2.5)\n",
      "Requirement already satisfied: jinja2 in /usr/local/lib/python3.10/dist-packages (from torch==2.1.0+cu118) (3.1.2)\n",
      "Requirement already satisfied: fsspec in /usr/local/lib/python3.10/dist-packages (from torch==2.1.0+cu118) (2023.6.0)\n",
      "Requirement already satisfied: triton==2.1.0 in /usr/local/lib/python3.10/dist-packages (from torch==2.1.0+cu118) (2.1.0)\n",
      "Requirement already satisfied: numpy in /usr/local/lib/python3.10/dist-packages (from torchvision==0.16.0+cu118) (1.23.5)\n",
      "Requirement already satisfied: requests in /usr/local/lib/python3.10/dist-packages (from torchvision==0.16.0+cu118) (2.31.0)\n",
      "Requirement already satisfied: pillow!=8.3.*,>=5.3.0 in /home/work/.local/lib/python3.10/site-packages (from torchvision==0.16.0+cu118) (7.2.0)\n",
      "Requirement already satisfied: MarkupSafe>=2.0 in /usr/local/lib/python3.10/dist-packages (from jinja2->torch==2.1.0+cu118) (2.1.3)\n",
      "Requirement already satisfied: decorator>=4.3.0 in /usr/local/lib/python3.10/dist-packages (from networkx->torch==2.1.0+cu118) (4.4.2)\n",
      "Requirement already satisfied: charset-normalizer<4,>=2 in /usr/local/lib/python3.10/dist-packages (from requests->torchvision==0.16.0+cu118) (3.3.2)\n",
      "Requirement already satisfied: idna<4,>=2.5 in /usr/local/lib/python3.10/dist-packages (from requests->torchvision==0.16.0+cu118) (3.6)\n",
      "Requirement already satisfied: urllib3<3,>=1.21.1 in /usr/local/lib/python3.10/dist-packages (from requests->torchvision==0.16.0+cu118) (2.0.7)\n",
      "Requirement already satisfied: certifi>=2017.4.17 in /home/work/.local/lib/python3.10/site-packages (from requests->torchvision==0.16.0+cu118) (2020.6.20)\n",
      "Requirement already satisfied: mpmath>=0.19 in /usr/local/lib/python3.10/dist-packages (from sympy->torch==2.1.0+cu118) (1.3.0)\n",
      "Installing collected packages: torch, torchvision\n",
      "\u001b[31mERROR: pip's dependency resolver does not currently take into account all the packages that are installed. This behaviour is the source of the following dependency conflicts.\n",
      "fastai 2.7.13 requires pillow>=9.0.0, but you have pillow 7.2.0 which is incompatible.\u001b[0m\u001b[31m\n",
      "\u001b[0mSuccessfully installed torch-2.1.0+cu118 torchvision-0.16.0+cu118\n"
     ]
    }
   ],
   "source": [
    "!pip uninstall torch torchvision torchaudio -y\n",
    "\n",
    "!pip install torch==2.1.0+cu118 torchvision==0.16.0+cu118 torchaudio==2.1.0 --index-url https://download.pytorch.org/whl/cu118"
   ]
  },
  {
   "attachments": {},
   "cell_type": "markdown",
   "metadata": {},
   "source": [
    "## fine-tuning"
   ]
  },
  {
   "cell_type": "code",
   "execution_count": null,
   "metadata": {},
   "outputs": [],
   "source": [
    "# baseline\n",
    "!python train.py --dataset Blastocyst \\\n",
    "    --model resnest26d \\\n",
    "    --batch_size 16 \\\n",
    "    --epochs 50 \\\n",
    "    --num_classes 2 \\\n",
    "    --aug true \\\n",
    "    --use_slot false \\\n",
    "    --lr 0.0005 \\\n",
    "    --vis false \\\n",
    "    --weight_decay 0.005 \\\n",
    "    --use_slot false \\\n",
    "    --channel 3 \\\n",
    "    --use_pre true \\\n",
    "    --freeze_layers 3 \\\n",
    "    --dataset_dir /home/work/scouter/scouter/scouter-v2/data/blastocyst/split"
   ]
  },
  {
   "cell_type": "code",
   "execution_count": null,
   "metadata": {},
   "outputs": [],
   "source": [
    "# slot-positive\n",
    "!python train_slot.py \\\n",
    "  --dataset Blastocyst \\\n",
    "  --model resnest26d \\\n",
    "  --batch_size 16 \\\n",
    "  --epochs 30 \\\n",
    "  --num_classes 2 \\\n",
    "  --use_slot true \\\n",
    "  --use_pre false \\\n",
    "  --loss_status 1 \\\n",
    "  --slots_per_class 1 \\\n",
    "  --power 2 \\\n",
    "  --to_k_layer 3 \\\n",
    "  --lambda_value 1 \\\n",
    "  --vis false \\\n",
    "  --freeze_layers 0 \\\n",
    "  --resume /home/work/scouter/scouter/scouter-v2/saved_model/best4.pth \\\n",
    "  --dataset_dir /home/work/scouter/scouter/scouter-v2/data/blastocyst/split"
   ]
  },
  {
   "cell_type": "code",
   "execution_count": 14,
   "metadata": {},
   "outputs": [
    {
     "name": "stdout",
     "output_type": "stream",
     "text": [
      "Not using distributed mode\n",
      "Resume from /home/work/scouter/scouter/scouter-v2/saved_model/best4.pth → backbone만 로드, 학습은 처음부터 이어서 진행합니다.\n",
      "Start training: epochs=30, batch_size=16, lr=0.0001\n",
      "start train :0\n",
      "100% 28/28 [00:09<00:00,  2.86it/s]\n",
      "[Epoch 0] val_acc=0.568 val_auc=0.545 val_loss=0.834\n",
      "✔ best.pth updated\n",
      "train loss: [0.824]\n",
      "val loss: [0.834]\n",
      "train acc: [0.589]\n",
      "val acc: [0.568]\n",
      "train CE loss [0.697]\n",
      "val CE loss [0.701]\n",
      "train attention loss [0.255]\n",
      "val attention loss [0.267]\n",
      "start train :1\n",
      "100% 28/28 [00:08<00:00,  3.13it/s]\n",
      "[Epoch 1] val_acc=0.505 val_auc=0.510 val_loss=0.884\n",
      "train loss: [0.824, 0.703]\n",
      "val loss: [0.834, 0.884]\n",
      "train acc: [0.589, 0.725]\n",
      "val acc: [0.568, 0.505]\n",
      "train CE loss [0.697, 0.553]\n",
      "val CE loss [0.701, 0.719]\n",
      "train attention loss [0.255, 0.3]\n",
      "val attention loss [0.267, 0.329]\n",
      "start train :2\n",
      "100% 28/28 [00:09<00:00,  3.06it/s]\n",
      "[Epoch 2] val_acc=0.653 val_auc=0.650 val_loss=1.213\n",
      "✔ best.pth updated\n",
      "train loss: [0.824, 0.703, 0.686]\n",
      "val loss: [0.834, 0.884, 1.213]\n",
      "train acc: [0.589, 0.725, 0.692]\n",
      "val acc: [0.568, 0.505, 0.653]\n",
      "train CE loss [0.697, 0.553, 0.519]\n",
      "val CE loss [0.701, 0.719, 1.031]\n",
      "train attention loss [0.255, 0.3, 0.334]\n",
      "val attention loss [0.267, 0.329, 0.364]\n",
      "start train :3\n",
      "100% 28/28 [00:08<00:00,  3.11it/s]\n",
      "[Epoch 3] val_acc=0.579 val_auc=0.616 val_loss=1.043\n",
      "train loss: [0.824, 0.703, 0.686, 0.631]\n",
      "val loss: [0.834, 0.884, 1.213, 1.043]\n",
      "train acc: [0.589, 0.725, 0.692, 0.808]\n",
      "val acc: [0.568, 0.505, 0.653, 0.579]\n",
      "train CE loss [0.697, 0.553, 0.519, 0.466]\n",
      "val CE loss [0.701, 0.719, 1.031, 0.878]\n",
      "train attention loss [0.255, 0.3, 0.334, 0.33]\n",
      "val attention loss [0.267, 0.329, 0.364, 0.33]\n",
      "start train :4\n",
      "100% 28/28 [00:08<00:00,  3.13it/s]\n",
      "[Epoch 4] val_acc=0.516 val_auc=0.642 val_loss=1.079\n",
      "Epoch 00005: reducing learning rate of group 0 to 5.0000e-05.\n",
      "train loss: [0.824, 0.703, 0.686, 0.631, 0.571]\n",
      "val loss: [0.834, 0.884, 1.213, 1.043, 1.079]\n",
      "train acc: [0.589, 0.725, 0.692, 0.808, 0.833]\n",
      "val acc: [0.568, 0.505, 0.653, 0.579, 0.516]\n",
      "train CE loss [0.697, 0.553, 0.519, 0.466, 0.41]\n",
      "val CE loss [0.701, 0.719, 1.031, 0.878, 0.919]\n",
      "train attention loss [0.255, 0.3, 0.334, 0.33, 0.322]\n",
      "val attention loss [0.267, 0.329, 0.364, 0.33, 0.32]\n",
      "start train :5\n",
      "100% 28/28 [00:08<00:00,  3.13it/s]\n",
      "[Epoch 5] val_acc=0.474 val_auc=0.563 val_loss=1.948\n",
      "train loss: [0.824, 0.703, 0.686, 0.631, 0.571, 0.622]\n",
      "val loss: [0.834, 0.884, 1.213, 1.043, 1.079, 1.948]\n",
      "train acc: [0.589, 0.725, 0.692, 0.808, 0.833, 0.734]\n",
      "val acc: [0.568, 0.505, 0.653, 0.579, 0.516, 0.474]\n",
      "train CE loss [0.697, 0.553, 0.519, 0.466, 0.41, 0.469]\n",
      "val CE loss [0.701, 0.719, 1.031, 0.878, 0.919, 1.794]\n",
      "train attention loss [0.255, 0.3, 0.334, 0.33, 0.322, 0.306]\n",
      "val attention loss [0.267, 0.329, 0.364, 0.33, 0.32, 0.307]\n",
      "start train :6\n",
      "100% 28/28 [00:08<00:00,  3.14it/s]\n",
      "[Epoch 6] val_acc=0.558 val_auc=0.619 val_loss=0.873\n",
      "train loss: [0.824, 0.703, 0.686, 0.631, 0.571, 0.622, 0.727]\n",
      "val loss: [0.834, 0.884, 1.213, 1.043, 1.079, 1.948, 0.873]\n",
      "train acc: [0.589, 0.725, 0.692, 0.808, 0.833, 0.734, 0.585]\n",
      "val acc: [0.568, 0.505, 0.653, 0.579, 0.516, 0.474, 0.558]\n",
      "train CE loss [0.697, 0.553, 0.519, 0.466, 0.41, 0.469, 0.581]\n",
      "val CE loss [0.701, 0.719, 1.031, 0.878, 0.919, 1.794, 0.718]\n",
      "train attention loss [0.255, 0.3, 0.334, 0.33, 0.322, 0.306, 0.293]\n",
      "val attention loss [0.267, 0.329, 0.364, 0.33, 0.32, 0.307, 0.309]\n",
      "start train :7\n",
      "100% 28/28 [00:08<00:00,  3.16it/s]\n",
      "[Epoch 7] val_acc=0.611 val_auc=0.595 val_loss=1.082\n",
      "Early-Stopping at epoch 7 (no val_acc ↑ for 5 epochs)\n",
      "Total training time: 0:01:28\n"
     ]
    }
   ],
   "source": [
    "# slot-negative\n",
    "!python train_slot.py \\\n",
    "  --dataset Blastocyst \\\n",
    "  --model resnest26d \\\n",
    "  --batch_size 16 \\\n",
    "  --epochs 30 \\\n",
    "  --num_classes 2 \\\n",
    "  --use_slot true \\\n",
    "  --use_pre false \\\n",
    "  --loss_status -1 \\\n",
    "  --slots_per_class 1 \\\n",
    "  --power 2 \\\n",
    "  --to_k_layer 3 \\\n",
    "  --lambda_value 0.5 \\\n",
    "  --lr 0.0001 \\\n",
    "  --vis false \\\n",
    "  --freeze_layers 1 \\\n",
    "  --resume /home/work/scouter/scouter/scouter-v2/saved_model/best4.pth \\\n",
    "  --dataset_dir /home/work/scouter/scouter/scouter-v2/data/blastocyst/split"
   ]
  },
  {
   "cell_type": "code",
   "execution_count": null,
   "metadata": {},
   "outputs": [],
   "source": []
  },
  {
   "attachments": {},
   "cell_type": "markdown",
   "metadata": {},
   "source": [
    "### 시각화"
   ]
  },
  {
   "cell_type": "code",
   "execution_count": 14,
   "metadata": {},
   "outputs": [
    {
     "name": "stdout",
     "output_type": "stream",
     "text": [
      "Ground-truth label:\t 1\n",
      "Checkpoint keys: ['model', 'optimizer', 'lr_scheduler', 'epoch', 'args', 'best_acc']\n",
      "tensor([[-30.9804, -31.1052]], device='cuda:0', grad_fn=<MulBackward0>)\n",
      "tensor([[-14.9141, -15.6262]], device='cuda:0', grad_fn=<MulBackward0>)\n",
      "Raw logits: [-0.39919144 -1.111279  ]\n",
      "Predicted class: 0\n"
     ]
    }
   ],
   "source": [
    "!python test.py \\\n",
    "  --dataset Blastocyst \\\n",
    "  --model resnest26d \\\n",
    "  --batch_size 16 \\\n",
    "  --num_classes 2 \\\n",
    "  --use_slot true \\\n",
    "  --use_pre false \\\n",
    "  --loss_status -1 \\\n",
    "  --slots_per_class 1 \\\n",
    "  --power 2 \\\n",
    "  --to_k_layer 3 \\\n",
    "  --lambda_value 1 \\\n",
    "  --vis true \\\n",
    "  --freeze_layers 0 \\\n",
    "  --dataset_dir /home/work/SCOUTERv2/scouter/data/blastocyst/split \\\n",
    "  --output_dir saved_model/best1p-slot.pth"
   ]
  },
  {
   "attachments": {},
   "cell_type": "markdown",
   "metadata": {},
   "source": [
    "## 평가지표"
   ]
  },
  {
   "cell_type": "code",
   "execution_count": 16,
   "metadata": {},
   "outputs": [
    {
     "name": "stdout",
     "output_type": "stream",
     "text": [
      "[Info] generating explanation images …\n",
      "Traceback (most recent call last):\n",
      "  File \"/home/work/SCOUTERv2/scouter/eval_blasto.py\", line 136, in <module>\n",
      "    main()\n",
      "  File \"/home/work/SCOUTERv2/scouter/eval_blasto.py\", line 99, in main\n",
      "    generate_exps(model, val_loader, device)\n",
      "  File \"/home/work/SCOUTERv2/scouter/eval_blasto.py\", line 75, in generate_exps\n",
      "    _ = model(img.unsqueeze(0),\n",
      "  File \"/home/work/.local/lib/python3.10/site-packages/torch/nn/modules/module.py\", line 1518, in _wrapped_call_impl\n",
      "    return self._call_impl(*args, **kwargs)\n",
      "  File \"/home/work/.local/lib/python3.10/site-packages/torch/nn/modules/module.py\", line 1527, in _call_impl\n",
      "    return forward_call(*args, **kwargs)\n",
      "TypeError: SlotModel.forward() got an unexpected keyword argument 'save_id'\n"
     ]
    }
   ],
   "source": [
    "!python eval_blasto.py \\\n",
    "  --dataset_dir /home/work/SCOUTERv2/scouter/data/blastocyst/split \\\n",
    "  --checkpoint  /home/work/SCOUTERv2/scouter/saved_model/best1p-slot.pth \\\n",
    "  --model resnest26d \\\n",
    "  --use_slot true \\\n",
    "  --pre_trained true \\\n",
    "  --loss_status 1 \\\n",
    "  --to_k_layer 3 \\\n",
    "  --lambda_value 1 \\\n",
    "  --freeze_layers 0 \\\n",
    "  --vis true \\\n",
    "  --auc --saliency"
   ]
  },
  {
   "cell_type": "code",
   "execution_count": null,
   "metadata": {},
   "outputs": [],
   "source": []
  }
 ],
 "metadata": {
  "kernelspec": {
   "display_name": "Python 3",
   "language": "python",
   "name": "python3"
  },
  "language_info": {
   "codemirror_mode": {
    "name": "ipython",
    "version": 3
   },
   "file_extension": ".py",
   "mimetype": "text/x-python",
   "name": "python",
   "nbconvert_exporter": "python",
   "pygments_lexer": "ipython3",
   "version": "3.10.12"
  },
  "orig_nbformat": 4
 },
 "nbformat": 4,
 "nbformat_minor": 2
}
